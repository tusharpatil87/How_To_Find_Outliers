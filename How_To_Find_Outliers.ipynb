{
 "cells": [
  {
   "cell_type": "markdown",
   "id": "7c97c1af",
   "metadata": {},
   "source": [
    "# Project Goal:"
   ]
  },
  {
   "cell_type": "markdown",
   "id": "06fed011",
   "metadata": {},
   "source": [
    "# Our Primary goal is to find out the Outlier values from the Data series. We will see how to set the Minimum value to find out the Lower Outliers and we will also see how to set the Maximum value for the Higher Outliers. Even though we can use these Minimum and Maximum values to clean the impurities from the Data series."
   ]
  },
  {
   "cell_type": "code",
   "execution_count": 51,
   "id": "cad42108",
   "metadata": {},
   "outputs": [],
   "source": [
    "import numpy as np\n",
    "import scipy.stats as stats\n",
    "import matplotlib.pyplot as plt\n",
    "import seaborn as sns\n",
    "import pandas as pd\n",
    "%matplotlib inline"
   ]
  },
  {
   "cell_type": "code",
   "execution_count": 52,
   "id": "270059c5",
   "metadata": {},
   "outputs": [],
   "source": [
    "x = np.array([2,32,43,44,49,51,63])\n",
    "y = np.array([21,27,34,38,42,48,81])"
   ]
  },
  {
   "cell_type": "code",
   "execution_count": 53,
   "id": "5fae432c",
   "metadata": {
    "scrolled": true
   },
   "outputs": [
    {
     "name": "stderr",
     "output_type": "stream",
     "text": [
      "C:\\Users\\Om\\anaconda3\\envs\\DS-ML-Projects\\lib\\site-packages\\seaborn\\_decorators.py:36: FutureWarning: Pass the following variable as a keyword arg: x. From version 0.12, the only valid positional argument will be `data`, and passing other arguments without an explicit keyword will result in an error or misinterpretation.\n",
      "  warnings.warn(\n"
     ]
    },
    {
     "data": {
      "image/png": "[encoded data removed]",
      "text/plain": [
       "<Figure size 432x288 with 1 Axes>"
      ]
     },
     "metadata": {
      "needs_background": "light"
     },
     "output_type": "display_data"
    }
   ],
   "source": [
    "sns.boxplot(x)\n",
    "plt.show()\n"
   ]
  },
  {
   "cell_type": "code",
   "execution_count": 54,
   "id": "5808e245",
   "metadata": {},
   "outputs": [
    {
     "data": {
      "image/png": "[encoded data removed]",
      "text/plain": [
       "<Figure size 432x288 with 1 Axes>"
      ]
     },
     "metadata": {
      "needs_background": "light"
     },
     "output_type": "display_data"
    }
   ],
   "source": [
    "plt.boxplot(x)\n",
    "plt.show()"
   ]
  },
  {
   "cell_type": "code",
   "execution_count": 55,
   "id": "839ea614",
   "metadata": {},
   "outputs": [
    {
     "name": "stderr",
     "output_type": "stream",
     "text": [
      "C:\\Users\\Om\\anaconda3\\envs\\DS-ML-Projects\\lib\\site-packages\\seaborn\\_decorators.py:36: FutureWarning: Pass the following variable as a keyword arg: x. From version 0.12, the only valid positional argument will be `data`, and passing other arguments without an explicit keyword will result in an error or misinterpretation.\n",
      "  warnings.warn(\n",
      "C:\\Users\\Om\\anaconda3\\envs\\DS-ML-Projects\\lib\\site-packages\\seaborn\\_decorators.py:36: FutureWarning: Pass the following variable as a keyword arg: x. From version 0.12, the only valid positional argument will be `data`, and passing other arguments without an explicit keyword will result in an error or misinterpretation.\n",
      "  warnings.warn(\n"
     ]
    },
    {
     "data": {
      "text/plain": [
       "<AxesSubplot:>"
      ]
     },
     "execution_count": 55,
     "metadata": {},
     "output_type": "execute_result"
    },
    {
     "data": {
      "image/png": "[encoded data removed]",
      "text/plain": [
       "<Figure size 432x288 with 1 Axes>"
      ]
     },
     "metadata": {
      "needs_background": "light"
     },
     "output_type": "display_data"
    }
   ],
   "source": [
    "sns.boxplot(x)\n",
    "sns.swarmplot(x)"
   ]
  },
  {
   "cell_type": "code",
   "execution_count": 56,
   "id": "6e31a7a2",
   "metadata": {},
   "outputs": [
    {
     "data": {
      "image/png": "[encoded data removed]",
      "text/plain": [
       "<Figure size 432x288 with 1 Axes>"
      ]
     },
     "metadata": {
      "needs_background": "light"
     },
     "output_type": "display_data"
    }
   ],
   "source": [
    "plt.boxplot(y)\n",
    "plt.show()"
   ]
  },
  {
   "cell_type": "code",
   "execution_count": 57,
   "id": "766559b6",
   "metadata": {},
   "outputs": [
    {
     "name": "stderr",
     "output_type": "stream",
     "text": [
      "C:\\Users\\Om\\anaconda3\\envs\\DS-ML-Projects\\lib\\site-packages\\seaborn\\_decorators.py:36: FutureWarning: Pass the following variable as a keyword arg: x. From version 0.12, the only valid positional argument will be `data`, and passing other arguments without an explicit keyword will result in an error or misinterpretation.\n",
      "  warnings.warn(\n",
      "C:\\Users\\Om\\anaconda3\\envs\\DS-ML-Projects\\lib\\site-packages\\seaborn\\_decorators.py:36: FutureWarning: Pass the following variable as a keyword arg: x. From version 0.12, the only valid positional argument will be `data`, and passing other arguments without an explicit keyword will result in an error or misinterpretation.\n",
      "  warnings.warn(\n"
     ]
    },
    {
     "data": {
      "text/plain": [
       "<AxesSubplot:>"
      ]
     },
     "execution_count": 57,
     "metadata": {},
     "output_type": "execute_result"
    },
    {
     "data": {
      "image/png": "[encoded data removed]",
      "text/plain": [
       "<Figure size 432x288 with 1 Axes>"
      ]
     },
     "metadata": {
      "needs_background": "light"
     },
     "output_type": "display_data"
    }
   ],
   "source": [
    "sns.boxplot(y)\n",
    "sns.swarmplot(y)"
   ]
  },
  {
   "cell_type": "markdown",
   "id": "0a0b0e1b",
   "metadata": {},
   "source": [
    "# Formula"
   ]
  },
  {
   "cell_type": "markdown",
   "id": "f770484a",
   "metadata": {},
   "source": [
    "# Lower Outlier = Q1 - (1.5 * IQR)     #Higher Outlier = Q3 + (1.5 * IQR)"
   ]
  },
  {
   "cell_type": "code",
   "execution_count": 58,
   "id": "260b57a9",
   "metadata": {},
   "outputs": [
    {
     "data": {
      "text/plain": [
       "0     2\n",
       "1    32\n",
       "2    43\n",
       "3    44\n",
       "4    49\n",
       "5    51\n",
       "6    63\n",
       "dtype: int32"
      ]
     },
     "execution_count": 58,
     "metadata": {},
     "output_type": "execute_result"
    }
   ],
   "source": [
    "x_d = pd.Series(x)\n",
    "x_d"
   ]
  },
  {
   "cell_type": "code",
   "execution_count": 59,
   "id": "fdcb2c24",
   "metadata": {},
   "outputs": [
    {
     "data": {
      "text/plain": [
       "0    21\n",
       "1    27\n",
       "2    34\n",
       "3    38\n",
       "4    42\n",
       "5    48\n",
       "6    81\n",
       "dtype: int32"
      ]
     },
     "execution_count": 59,
     "metadata": {},
     "output_type": "execute_result"
    }
   ],
   "source": [
    "y_d = pd.Series(y)\n",
    "y_d"
   ]
  },
  {
   "cell_type": "code",
   "execution_count": 60,
   "id": "9f13aa8b",
   "metadata": {},
   "outputs": [
    {
     "data": {
      "text/plain": [
       "count     7.000000\n",
       "mean     40.571429\n",
       "std      19.415262\n",
       "min       2.000000\n",
       "25%      37.500000\n",
       "50%      44.000000\n",
       "75%      50.000000\n",
       "max      63.000000\n",
       "dtype: float64"
      ]
     },
     "execution_count": 60,
     "metadata": {},
     "output_type": "execute_result"
    }
   ],
   "source": [
    "x_d.describe()"
   ]
  },
  {
   "cell_type": "code",
   "execution_count": 61,
   "id": "fc4aeabd",
   "metadata": {},
   "outputs": [
    {
     "data": {
      "text/plain": [
       "count     7.000000\n",
       "mean     41.571429\n",
       "std      19.586195\n",
       "min      21.000000\n",
       "25%      30.500000\n",
       "50%      38.000000\n",
       "75%      45.000000\n",
       "max      81.000000\n",
       "dtype: float64"
      ]
     },
     "execution_count": 61,
     "metadata": {},
     "output_type": "execute_result"
    }
   ],
   "source": [
    "y_d.describe()"
   ]
  },
  {
   "cell_type": "code",
   "execution_count": 62,
   "id": "e2cae370",
   "metadata": {},
   "outputs": [
    {
     "name": "stdout",
     "output_type": "stream",
     "text": [
      "Minimum_Value for the data is >>> 2.0\n",
      "\n",
      "Maximum_Value for the data is >>> 63.0\n",
      "\n",
      "Q1 Value for the data is >>> 37.5\n",
      "\n",
      "Q3 Value for the data is >>> 50.0\n",
      "\n",
      "Lower_Outlier Value for the data is >>> 18.75\n",
      "\n",
      "Higher_Outlier Value for the data is >>> 68.75\n",
      "\n",
      "Conclude that there is Lower_Outlier values than 18.75\n",
      "\n",
      "Conclude that there is no Higher_Outlier values than 68.75\n",
      "\n"
     ]
    }
   ],
   "source": [
    "def Outliers(data):\n",
    "    val_low = data.describe().values\n",
    "    min_value = val_low[3]\n",
    "    print(\"Minimum_Value for the data is >>> {}\\n\".format(min_value ))\n",
    "    \n",
    "    max_value = val_low[7]\n",
    "    print(\"Maximum_Value for the data is >>> {}\\n\".format(max_value ))\n",
    "   \n",
    "    \n",
    "    Q1 = val_low[4]\n",
    "    print(\"Q1 Value for the data is >>> {}\\n\".format( Q1 ))\n",
    "    \n",
    "    val_high = data.describe().values\n",
    "    Q3 = val_high[6]\n",
    "    print(\"Q3 Value for the data is >>> {}\\n\".format( Q3 ))\n",
    "        \n",
    "    IQR = Q3-Q1\n",
    "    Lower_Outlier = Q1 - (1.5 * IQR)\n",
    "    Higher_Outlier = Q3 + (1.5 * IQR)\n",
    "    print(\"Lower_Outlier Value for the data is >>> {}\\n\".format(Lower_Outlier ))\n",
    "    print(\"Higher_Outlier Value for the data is >>> {}\\n\".format( Higher_Outlier ))\n",
    "    \n",
    "    if  min_value < Lower_Outlier:\n",
    "        print(\"Conclude that there is Lower_Outlier values than {}\\n\".format(Lower_Outlier))\n",
    "    else:\n",
    "        print(\"Conclude that there is no Lower_Outlier values than {}\\n\".format(Lower_Outlier))\n",
    "    \n",
    "    if Higher_Outlier < max_value:\n",
    "        print(\"Conclude that there is Higher_Outlier values than {}\\n\".format(Higher_Outlier))\n",
    "    else:\n",
    "        print(\"Conclude that there is no Higher_Outlier values than {}\\n\".format(Higher_Outlier)) \n",
    "        \n",
    "Outliers(x_d)\n"
   ]
  },
  {
   "cell_type": "code",
   "execution_count": 63,
   "id": "39d44d28",
   "metadata": {},
   "outputs": [
    {
     "name": "stdout",
     "output_type": "stream",
     "text": [
      "Minimum_Value for the data is >>> 2.0\n",
      "\n",
      "Maximum_Value for the data is >>> 63.0\n",
      "\n",
      "Q1 Value for the data is >>> 37.5\n",
      "\n",
      "Q3 Value for the data is >>> 50.0\n",
      "\n",
      "Lower_Outlier Value for the data is >>> 18.75\n",
      "\n",
      "Higher_Outlier Value for the data is >>> 68.75\n",
      "\n",
      "Conclude that there is Lower_Outlier values than 18.75\n",
      "\n",
      "Conclude that there is no Higher_Outlier values than 68.75\n",
      "\n"
     ]
    }
   ],
   "source": [
    "Outliers(x_d)"
   ]
  },
  {
   "cell_type": "code",
   "execution_count": 64,
   "id": "cd538c7a",
   "metadata": {},
   "outputs": [
    {
     "name": "stdout",
     "output_type": "stream",
     "text": [
      "Minimum_Value for the data is >>> 21.0\n",
      "\n",
      "Maximum_Value for the data is >>> 81.0\n",
      "\n",
      "Q1 Value for the data is >>> 30.5\n",
      "\n",
      "Q3 Value for the data is >>> 45.0\n",
      "\n",
      "Lower_Outlier Value for the data is >>> 8.75\n",
      "\n",
      "Higher_Outlier Value for the data is >>> 66.75\n",
      "\n",
      "Conclude that there is no Lower_Outlier values than 8.75\n",
      "\n",
      "Conclude that there is Higher_Outlier values than 66.75\n",
      "\n"
     ]
    }
   ],
   "source": [
    "Outliers(y_d)"
   ]
  },
  {
   "cell_type": "markdown",
   "id": "8edf53a9",
   "metadata": {},
   "source": [
    "# Project Conclusion:"
   ]
  },
  {
   "cell_type": "markdown",
   "id": "b15d1968",
   "metadata": {},
   "source": [
    "# We have successfully implemented the logic for the customized function and with the help of that we achieved our Primary goal which is to find out the Outlier values from the Data series. We have seen how to set the Minimum value to find out the Lower Outliers and we have also seen that how to set the Maximum value for the Higher Outliers. Now we can use this function values  like Minimum and Maximum values to clean the impurities from the Data series."
   ]
  },
  {
   "cell_type": "code",
   "execution_count": null,
   "id": "1465e669",
   "metadata": {},
   "outputs": [],
   "source": []
  }
 ],
 "metadata": {
  "kernelspec": {
   "display_name": "Python 3 (ipykernel)",
   "language": "python",
   "name": "python3"
  },
  "language_info": {
   "codemirror_mode": {
    "name": "ipython",
    "version": 3
   },
   "file_extension": ".py",
   "mimetype": "text/x-python",
   "name": "python",
   "nbconvert_exporter": "python",
   "pygments_lexer": "ipython3",
   "version": "3.8.12"
  }
 },
 "nbformat": 4,
 "nbformat_minor": 5
}
